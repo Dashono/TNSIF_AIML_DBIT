{
 "cells": [
  {
   "cell_type": "code",
   "execution_count": null,
   "id": "a54bd8ee",
   "metadata": {},
   "outputs": [],
   "source": [
    "# Gold Price Prediction using Linear Regression.ipynb\n",
    "\n",
    "\n",
    "# Step 1: Import Libraries\n",
    "import pandas as pd\n",
    "import numpy as np\n",
    "import matplotlib.pyplot as plt\n",
    "import seaborn as sns\n",
    "from sklearn.model_selection import train_test_split\n",
    "from sklearn.linear_model import LinearRegression\n",
    "from sklearn.metrics import mean_squared_error, r2_score"
   ]
  },
  {
   "cell_type": "code",
   "execution_count": null,
   "id": "000c1390",
   "metadata": {},
   "outputs": [],
   "source": [
    "# Step 2: Load Dataset\n",
    "df = pd.read_csv(\"Datasets/gold_price_data.csv\")"
   ]
  },
  {
   "cell_type": "code",
   "execution_count": null,
   "id": "25cee029",
   "metadata": {},
   "outputs": [],
   "source": [
    "print(\"Dataset Shape:\", df.shape)\n",
    "print(\"\\nColumns:\", df.columns.tolist())\n",
    "print(\"\\nFirst 5 Rows:\\n\", df.head())"
   ]
  },
  {
   "cell_type": "code",
   "execution_count": null,
   "id": "ccbf11e5",
   "metadata": {},
   "outputs": [],
   "source": [
    "# Step 3: Check for Missing Values and Duplicates\n",
    "print(\"\\nMissing Values per Column:\\n\", df.isnull().sum())\n",
    "print(\"\\nNumber of Duplicates:\", df.duplicated().sum())"
   ]
  },
  {
   "cell_type": "code",
   "execution_count": null,
   "id": "6cef7a2a",
   "metadata": {},
   "outputs": [],
   "source": [
    "# Drop duplicates if any\n",
    "df.drop_duplicates(inplace=True)"
   ]
  },
  {
   "cell_type": "code",
   "execution_count": null,
   "id": "35234729",
   "metadata": {},
   "outputs": [],
   "source": [
    "\n",
    "# Handle missing values (drop or fill, here we drop for simplicity)\n",
    "df.dropna(inplace=True)"
   ]
  },
  {
   "cell_type": "code",
   "execution_count": null,
   "id": "475055cf",
   "metadata": {},
   "outputs": [],
   "source": [
    "# Step 4: Exploratory Data Analysis\n",
    "print(\"\\nDescriptive Statistics:\\n\", df.describe())"
   ]
  },
  {
   "cell_type": "code",
   "execution_count": null,
   "id": "28c22a4e",
   "metadata": {},
   "outputs": [],
   "source": [
    "# Plot distributions of key features\n",
    "plt.figure(figsize=(12,6))\n",
    "df[['open','high','low','close']].hist(bins=50, figsize=(12,8))\n",
    "plt.suptitle(\"Feature Distributions\")\n",
    "plt.show()"
   ]
  },
  {
   "cell_type": "code",
   "execution_count": null,
   "id": "0e481003",
   "metadata": {},
   "outputs": [],
   "source": [
    "# Step 5: Correlation Heatmap\n",
    "plt.figure(figsize=(8,6))\n",
    "sns.heatmap(df.corr(), annot=True, cmap=\"coolwarm\", fmt=\".2f\", linewidths=0.5)\n",
    "plt.title(\"Correlation Heatmap\")\n",
    "plt.show()"
   ]
  },
  {
   "cell_type": "code",
   "execution_count": null,
   "id": "b238a82c",
   "metadata": {},
   "outputs": [],
   "source": [
    "# Step 6: Feature Selection\n",
    "X = df[['open','high','low','volume']] # Independent variables\n",
    "y = df['close'] # Target variable\n"
   ]
  },
  {
   "cell_type": "code",
   "execution_count": null,
   "id": "4c92c074",
   "metadata": {},
   "outputs": [],
   "source": [
    "# Step 7: Train-Test Split\n",
    "X_train, X_test, y_train, y_test = train_test_split(X, y, test_size=0.2, random_state=42)\n",
    "\n",
    "print(\"\\nTraining Set Shape:\", X_train.shape)\n",
    "print(\"Testing Set Shape:\", X_test.shape)"
   ]
  },
  {
   "cell_type": "code",
   "execution_count": null,
   "id": "fb5ab367",
   "metadata": {},
   "outputs": [],
   "source": [
    "# Step 9: Predictions\n",
    "y_pred = model.predict(X_test)"
   ]
  },
  {
   "cell_type": "code",
   "execution_count": null,
   "id": "7c0fe29e",
   "metadata": {},
   "outputs": [],
   "source": [
    "# Step 10: Evaluation\n",
    "mse = mean_squared_error(y_test, y_pred)\n",
    "rmse = np.sqrt(mse)\n",
    "r2 = r2_score(y_test, y_pred)\n",
    "\n",
    "\n",
    "print(\"\\nMean Squared Error:\", mse)\n",
    "print(\"Root Mean Squared Error:\", rmse)\n",
    "print(\"R² Score:\", r2)"
   ]
  },
  {
   "cell_type": "code",
   "execution_count": null,
   "id": "76f930aa",
   "metadata": {},
   "outputs": [],
   "source": [
    "# Step 11: Plot Actual vs Predicted\n",
    "plt.figure(figsize=(8,6))\n",
    "plt.scatter(y_test, y_pred, alpha=0.7, color='blue')\n",
    "plt.grid()\n",
    "plt.xlabel(\"Actual Gold Price\")\n",
    "plt.ylabel(\"Predicted Gold Price\")\n",
    "plt.title(\"Actual vs Predicted Gold Prices\")\n",
    "plt.plot([y.min(), y.max()], [y.min(), y.max()], color='red', linestyle='--')\n",
    "plt.show()"
   ]
  },
  {
   "cell_type": "code",
   "execution_count": null,
   "id": "fb542ce6",
   "metadata": {},
   "outputs": [],
   "source": [
    "# Step 12: Interpret Coefficients\n",
    "coefficients = pd.DataFrame({\n",
    "'Feature': X.columns,\n",
    "'Coefficient': model.coef_\n",
    "}).sort_values(by='Coefficient', ascending=False)\n",
    "\n",
    "\n",
    "print(\"\\nFeature Influence on Gold Price:\\n\", coefficients)\n",
    "\n",
    "\n",
    "plt.figure(figsize=(8,5))\n",
    "sns.barplot(x='Coefficient', y='Feature', data=coefficients, palette='coolwarm')\n",
    "plt.title(\"Feature Influence on Gold Price Prediction\")\n",
    "plt.show()"
   ]
  }
 ],
 "metadata": {
  "language_info": {
   "name": "python"
  }
 },
 "nbformat": 4,
 "nbformat_minor": 5
}
